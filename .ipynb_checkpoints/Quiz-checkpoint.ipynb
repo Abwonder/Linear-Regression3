{
 "cells": [
  {
   "cell_type": "markdown",
   "id": "50ade874",
   "metadata": {},
   "source": [
    "### Quiz"
   ]
  },
  {
   "cell_type": "markdown",
   "id": "3f28bcf4",
   "metadata": {},
   "source": [
    "1.\n",
    "\n",
    "What is the purpose of Ridge Regression?\n",
    "\n",
    "    To minimize the sum of squared residuals\n",
    "\n",
    "    To eliminate multicollinearity in the dataset\n",
    "\n",
    "    To identify the most important predictors\n",
    "\n",
    "     To maximize the accuracy of the model\n",
    "\n",
    "     \n",
    "\n",
    "Explanation: Ridge Regression is used to eliminate multicollinearity, which occurs when two or more predictors in a dataset are highly correlated with each other. This can cause issues in linear regression models, such as unstable coefficients or overfitting. Ridge Regression adds a penalty term to the cost function that shrinks the coefficients towards zero, reducing the impact of multicollinearity.\n",
    "2.\n",
    "\n",
    "How does Ridge Regression differ from ordinary least squares (OLS) regression?\n",
    "\n",
    "    Ridge Regression adds a penalty term to the cost function\n",
    "\n",
    "    OLS regression uses a regularization technique\n",
    "\n",
    "    Ridge Regression does not account for multicollinearity\n",
    "\n",
    "    OLS regression shrinks coefficients towards zero\n",
    "\n",
    "Explanation: Ridge Regression adds a penalty term to the cost function to shrink the coefficients towards zero, whereas OLS regression does not include any regularization techniques. The purpose of the penalty term is to reduce the impact of multicollinearity in the dataset.\n",
    "3.\n",
    "\n",
    " In Ridge Regression, what is the value of the penalty term lambda (λ) used for?\n",
    "\n",
    "    To increase the accuracy of the model\n",
    "\n",
    "     To decrease the complexity of the model\n",
    "\n",
    "    To control the amount of shrinkage applied to the coefficients\n",
    "\n",
    "    To select the most important predictors\n",
    "\n",
    "Explanation: The value of the penalty term lambda (λ) in Ridge Regression is used to control the amount of shrinkage applied to the coefficients. A larger value of lambda results in greater shrinkage and a simpler model, while a smaller value of lambda results in less shrinkage and a more complex model.\n",
    "4.\n",
    "\n",
    "What is the main advantage of Ridge Regression?\n",
    "\n",
    "    It reduces the complexity of the model\n",
    "\n",
    "    It eliminates multicollinearity in the dataset\n",
    "\n",
    "    It selects the most important predictors\n",
    "\n",
    "    It increases the accuracy of the model\n",
    "\n",
    "Explanation: The main advantage of Ridge Regression is that it eliminates multicollinearity in the dataset, which can cause issues in linear regression models. By adding a penalty term to the cost function, Ridge Regression reduces the impact of multicollinearity and produces more stable and reliable coefficients.\n",
    "5.\n",
    "\n",
    "How does Ridge Regression affect the coefficients of the predictors in the dataset?\n",
    "\n",
    "    It increases the magnitude of the coefficients\n",
    "\n",
    "    It decreases the magnitude of the coefficients\n",
    "\n",
    "    It does not affect the magnitude of the coefficients\n",
    "\n",
    "    It sets the coefficients to zero\n",
    "\n",
    "Explanation: Ridge Regression shrinks the coefficients towards zero by adding a penalty term to the cost function. This reduces the magnitude of the coefficients and helps to prevent overfitting in the model."
   ]
  }
 ],
 "metadata": {
  "kernelspec": {
   "display_name": "Python 3 (ipykernel)",
   "language": "python",
   "name": "python3"
  },
  "language_info": {
   "codemirror_mode": {
    "name": "ipython",
    "version": 3
   },
   "file_extension": ".py",
   "mimetype": "text/x-python",
   "name": "python",
   "nbconvert_exporter": "python",
   "pygments_lexer": "ipython3",
   "version": "3.9.12"
  }
 },
 "nbformat": 4,
 "nbformat_minor": 5
}
